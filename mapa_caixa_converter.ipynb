{
 "cells": [
  {
   "cell_type": "markdown",
   "metadata": {},
   "source": [
    "### Libs"
   ]
  },
  {
   "cell_type": "code",
   "execution_count": 1,
   "metadata": {},
   "outputs": [],
   "source": [
    "import openpyxl\n",
    "from openpyxl import load_workbook\n",
    "import pandas as pd\n",
    "from PyQt5.QtWidgets import QApplication, QFileDialog\n",
    "import sys\n",
    "import os\n",
    "import re\n",
    "import datetime as dt"
   ]
  },
  {
   "cell_type": "markdown",
   "metadata": {},
   "source": [
    "### Get folder and mapacaixa files"
   ]
  },
  {
   "cell_type": "code",
   "execution_count": 2,
   "metadata": {},
   "outputs": [
    {
     "name": "stderr",
     "output_type": "stream",
     "text": [
      "libGL error: MESA-LOADER: failed to open iris: /usr/lib/dri/iris_dri.so: não é possível abrir arquivo compartilhado: Arquivo ou diretório inexistente (search paths /usr/lib/x86_64-linux-gnu/dri:\\$${ORIGIN}/dri:/usr/lib/dri, suffix _dri)\n",
      "libGL error: failed to load driver: iris\n",
      "libGL error: MESA-LOADER: failed to open iris: /usr/lib/dri/iris_dri.so: não é possível abrir arquivo compartilhado: Arquivo ou diretório inexistente (search paths /usr/lib/x86_64-linux-gnu/dri:\\$${ORIGIN}/dri:/usr/lib/dri, suffix _dri)\n",
      "libGL error: failed to load driver: iris\n",
      "libGL error: MESA-LOADER: failed to open swrast: /usr/lib/dri/swrast_dri.so: não é possível abrir arquivo compartilhado: Arquivo ou diretório inexistente (search paths /usr/lib/x86_64-linux-gnu/dri:\\$${ORIGIN}/dri:/usr/lib/dri, suffix _dri)\n",
      "libGL error: failed to load driver: swrast\n"
     ]
    }
   ],
   "source": [
    "app = QApplication(sys.argv)\n",
    "folder = QFileDialog.getExistingDirectory(None, \"Select Folder\")"
   ]
  },
  {
   "cell_type": "code",
   "execution_count": 3,
   "metadata": {},
   "outputs": [],
   "source": [
    "files = os.listdir(folder)"
   ]
  },
  {
   "cell_type": "code",
   "execution_count": 4,
   "metadata": {},
   "outputs": [
    {
     "data": {
      "text/plain": [
       "['Mapa Caixa noite 01-11-24.xlsx', 'Mapa Caixa 01-11-24.xlsx']"
      ]
     },
     "execution_count": 4,
     "metadata": {},
     "output_type": "execute_result"
    }
   ],
   "source": [
    "files"
   ]
  },
  {
   "cell_type": "code",
   "execution_count": 5,
   "metadata": {},
   "outputs": [],
   "source": [
    "sheetnames = [f for f in files if re.match(r'[mM].+?\\.xlsx$', f)]\n",
    "night_sheetnames =  [sheet for sheet in sheetnames if re.search(\"[nN][oO][iI][tT][eE]\", sheet)]\n",
    "day_sheetnames = [sheet for sheet in sheetnames if sheet not in night_sheetnames]"
   ]
  },
  {
   "cell_type": "code",
   "execution_count": 6,
   "metadata": {},
   "outputs": [
    {
     "data": {
      "text/plain": [
       "(['Mapa Caixa 01-11-24.xlsx'], ['Mapa Caixa noite 01-11-24.xlsx'])"
      ]
     },
     "execution_count": 6,
     "metadata": {},
     "output_type": "execute_result"
    }
   ],
   "source": [
    "day_sheetnames, night_sheetnames"
   ]
  },
  {
   "cell_type": "code",
   "execution_count": 7,
   "metadata": {},
   "outputs": [],
   "source": [
    "start_copy_cell = \"AE7\"\n",
    "end_copy_cell = \"AE60\""
   ]
  },
  {
   "cell_type": "markdown",
   "metadata": {},
   "source": [
    "### Create new LC"
   ]
  },
  {
   "cell_type": "code",
   "execution_count": 8,
   "metadata": {},
   "outputs": [],
   "source": [
    "month = 7\n",
    "year = 2025\n",
    "first_dt_cell = \"C4\"\n",
    "first_dt_weekname_cell = \"C3\"\n",
    "new_lc_namefile = f\"LC_{month}_{year}.xlsx\""
   ]
  },
  {
   "cell_type": "markdown",
   "metadata": {},
   "source": [
    "### Open LC Sheets"
   ]
  },
  {
   "cell_type": "code",
   "execution_count": 9,
   "metadata": {},
   "outputs": [],
   "source": [
    "base_lc_filename = QFileDialog.getOpenFileName(None, \"Select Base LC File\", filter=\"Excel Files (*.xlsx)\")[0]\n",
    "new_lc = load_workbook(base_lc_filename, keep_vba=True)\n",
    "lc_sheetnames = new_lc.sheetnames\n",
    "lc_day_sheetname = [sheet for sheet in lc_sheetnames if \"dia\" in sheet.lower()][0]\n",
    "lc_day_sheet = new_lc[lc_day_sheetname]\n",
    "lc_night_sheetname = [sheet for sheet in lc_sheetnames if \"noite\" in sheet.lower()][0]\n",
    "lc_night_sheet = new_lc[lc_night_sheetname]"
   ]
  },
  {
   "cell_type": "markdown",
   "metadata": {},
   "source": [
    "### Set the dates correctly"
   ]
  },
  {
   "cell_type": "code",
   "execution_count": 10,
   "metadata": {},
   "outputs": [],
   "source": [
    "first_dt = dt.datetime(day=1, month=month, year=year)\n",
    "first_dt_weekname = first_dt.strftime(\"%A\")[0:3]\n",
    "lc_day_sheet[first_dt_cell] = first_dt\n",
    "lc_day_sheet[first_dt_weekname_cell] = first_dt_weekname"
   ]
  },
  {
   "cell_type": "markdown",
   "metadata": {},
   "source": [
    "### Copy and paste values from MapaCaixa to LC"
   ]
  },
  {
   "cell_type": "code",
   "execution_count": 11,
   "metadata": {},
   "outputs": [],
   "source": [
    "def copy_and_paste_values(lc_sheet, sheetnames, start_copy_cell, end_copy_cell):\n",
    "    for sheetname in sheetnames:\n",
    "        filename = os.path.join(folder, sheetname)\n",
    "        workbook = load_workbook(filename, keep_vba=True, data_only=True)\n",
    "        active_sheet = workbook[workbook.sheetnames[0]]\n",
    "        # Extract values from the range\n",
    "        values = [cell[0].value for cell in active_sheet[start_copy_cell:end_copy_cell]]\n",
    "        sheet_dt = re.findall(r\"\\d+\", sheetname)\n",
    "        sheet_day = int(sheet_dt[0])\n",
    "        #sheet_dt = dt.datetime(day=sheet_dt[0], month=sheet_dt[1], year=sheet_dt[2])\n",
    "        paste_column = openpyxl.utils.get_column_letter(2 + sheet_day) #Starts on C and C is the 3rd column\n",
    "        start_paste_cell = f\"{paste_column}8\"\n",
    "        end_paste_cell = f\"{paste_column}61\"\n",
    "        print(start_paste_cell, end_paste_cell)\n",
    "        print(values)\n",
    "        # Copy values to the new sheet\n",
    "        cells = lc_sheet[start_paste_cell:end_paste_cell]\n",
    "        for i, cell in enumerate(cells):\n",
    "            cell[0].value = values[i]  \n",
    "        \n",
    "        "
   ]
  },
  {
   "cell_type": "code",
   "execution_count": 12,
   "metadata": {},
   "outputs": [
    {
     "name": "stdout",
     "output_type": "stream",
     "text": [
      "C8 C61\n",
      "[datetime.datetime(2024, 11, 1, 0, 0), 0, 8274.64, 144, 0, 0, 0, 468.5, 343.65, 316.69, 2794.41, 4047.8, 0, 0, 0, 304.77, -1.1799999999998363, None, None, None, 3846.72, 73, 49.9, 1, 0, 0, 0, 0, 3846.72, 0, 42.9, 0, 0, 49.9, 0, 0, 0, 0, 0, None, 0, 42.90000000000009, 0, 0, 576.5, 1, 2, 3, 4, 5, 6, 7, 8, 9]\n"
     ]
    }
   ],
   "source": [
    "copy_and_paste_values(lc_day_sheet, day_sheetnames, start_copy_cell, end_copy_cell)"
   ]
  },
  {
   "cell_type": "code",
   "execution_count": 13,
   "metadata": {},
   "outputs": [
    {
     "name": "stdout",
     "output_type": "stream",
     "text": [
      "C8 C61\n",
      "[datetime.datetime(2024, 11, 1, 0, 0), 0, 6334.6, 83, 0, 0, 0, 220, 137.17, 150, 700.91, 4679.32, 0, 0, 447.20000000000005, 0, None, 6.821210263296962e-13, None, None, 278.6, 5, 104.9, 1, 0, 0, 0, 0, 276.1, 0, 0, 0, 0, 104.9, 0, 0, 0, 0, 0, 0, 2.5, 0, 2, 3, 4, 0, 68, 4, 84, 0, None, None, None, None]\n"
     ]
    }
   ],
   "source": [
    "copy_and_paste_values(lc_night_sheet, night_sheetnames, start_copy_cell, end_copy_cell)"
   ]
  },
  {
   "cell_type": "markdown",
   "metadata": {},
   "source": [
    "### Save new LC"
   ]
  },
  {
   "cell_type": "code",
   "execution_count": 14,
   "metadata": {},
   "outputs": [],
   "source": [
    "\n",
    "new_lc.save(new_lc_namefile)"
   ]
  },
  {
   "cell_type": "markdown",
   "metadata": {},
   "source": [
    "# Testes"
   ]
  },
  {
   "cell_type": "code",
   "execution_count": 43,
   "metadata": {},
   "outputs": [
    {
     "data": {
      "text/plain": [
       "('AE7', 'AE60')"
      ]
     },
     "execution_count": 43,
     "metadata": {},
     "output_type": "execute_result"
    }
   ],
   "source": [
    "start_copy_cell, end_copy_cell"
   ]
  },
  {
   "cell_type": "code",
   "execution_count": 30,
   "metadata": {},
   "outputs": [],
   "source": [
    "filename = os.path.join(folder, day_sheetnames[0])\n",
    "workbook = load_workbook(filename, keep_vba=True, data_only=True)\n",
    "active_sheet = workbook[workbook.sheetnames[0]]\n",
    "# Extract values from the range\n",
    "values = [cell[0].value for cell in active_sheet[start_copy_cell:end_copy_cell]]"
   ]
  },
  {
   "cell_type": "code",
   "execution_count": 31,
   "metadata": {},
   "outputs": [
    {
     "data": {
      "text/plain": [
       "0"
      ]
     },
     "execution_count": 31,
     "metadata": {},
     "output_type": "execute_result"
    }
   ],
   "source": [
    "active_sheet[start_copy_cell:end_copy_cell][1][0].value"
   ]
  },
  {
   "cell_type": "code",
   "execution_count": 32,
   "metadata": {},
   "outputs": [
    {
     "name": "stdout",
     "output_type": "stream",
     "text": [
      "/home/victor/Documentos/mapacaixapier/novembro/Mapa Caixa 01-11-24.xlsx\n",
      "AE7 AE60\n",
      "[datetime.datetime(2024, 11, 1, 0, 0), 0, 8274.64, 144, 0, 0, 0, 468.5, 343.65, 316.69, 2794.41, 4047.8, 0, 0, 0, 304.77, -1.1799999999998363, None, None, None, 3846.72, 73, 49.9, 1, 0, 0, 0, 0, 3846.72, 0, 42.9, 0, 0, 49.9, 0, 0, 0, 0, 0, None, 0, 42.90000000000009, 0, 0, 576.5, 1, 2, 3, 4, 5, 6, 7, 8, 9]\n"
     ]
    }
   ],
   "source": [
    "print(filename)\n",
    "print(start_copy_cell, end_copy_cell)\n",
    "print(values)"
   ]
  },
  {
   "cell_type": "code",
   "execution_count": 59,
   "metadata": {},
   "outputs": [
    {
     "data": {
      "text/plain": [
       "datetime.datetime(2024, 11, 2, 0, 0)"
      ]
     },
     "execution_count": 59,
     "metadata": {},
     "output_type": "execute_result"
    }
   ],
   "source": [
    "active_sheet[\"AE7\"].value"
   ]
  }
 ],
 "metadata": {
  "kernelspec": {
   "display_name": "base",
   "language": "python",
   "name": "python3"
  },
  "language_info": {
   "codemirror_mode": {
    "name": "ipython",
    "version": 3
   },
   "file_extension": ".py",
   "mimetype": "text/x-python",
   "name": "python",
   "nbconvert_exporter": "python",
   "pygments_lexer": "ipython3",
   "version": "3.11.5"
  }
 },
 "nbformat": 4,
 "nbformat_minor": 2
}
